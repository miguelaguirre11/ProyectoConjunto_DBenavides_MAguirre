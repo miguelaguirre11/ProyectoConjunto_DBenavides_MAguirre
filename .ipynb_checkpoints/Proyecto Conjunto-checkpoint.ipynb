{
 "cells": [
  {
   "cell_type": "markdown",
   "metadata": {},
   "source": [
    "# Proyecto Conjunto\n",
    "\n",
    "- Daniela Benavides \n",
    "- Miguel Aguirre "
   ]
  },
  {
   "cell_type": "markdown",
   "metadata": {},
   "source": [
    "## Expectativas del curso\n",
    "### <font color = darkorange> Daniela Benavides Herrera <font/>\n",
    "> Mis expectativas del curso son las siguientes:\n",
    "- Espero poder dominar y reforzar mis conocimientos de programación en **Python**.\n",
    "- Espero poder aprender a simular muchas situaciones financieras y poder aplicarlas a mi vida personal, como mis *inversiones* y *ahorros*.\n",
    "- Espero aprender a <font color=darkblue> trabajar en equipo </font> virtualmente o a distancia, ya que con esta nueva modalidad, se pueden aplicar estas herramientas hasta en el trabajo."
   ]
  },
  {
   "cell_type": "markdown",
   "metadata": {},
   "source": [
    "### Figura II\n",
    "### <font color=darkorange>Daniela Benavides Herrera"
   ]
  },
  {
   "cell_type": "markdown",
   "metadata": {},
   "source": [
    "\n",
    "\n",
    "| i              | 1            | 2            | 3              | 4            | 5            | 6             | 7            | \n",
    "| :------------: | :----------: | :-----------: | :------------- | :----------: | :-----------: | :------------ | :----------: |\n",
    "| $E_i(V)$       | 12           | 10           | 24             | 12           | -            | -             | -            |\n",
    "| $r_i(\\Omega)$  | 0.1          | 0.5          | 0.2            | 0.5          | -            | -             | -            |\n",
    "| $R_i(\\Omega)$  | 25           | 40           | 16             | 20           | 9            | 4             | 20           |\n",
    "\n"
   ]
  },
  {
   "cell_type": "markdown",
   "metadata": {},
   "source": [
    " <p style='text-align: justify;'> <font color=royalblue> Kemna y Vorst (1990) </font> muestran que las opciones asiáticas ocn media geométrica continua se pueden valuar con el mismo enfoque de las opciones *plain vanilla*;solo se deben cambiar los parámtros de volatilidad $\\sigma$ por $\\sigma_a$ y el costo de acarreo $b$ por $b_A$. </p>\n",
    " \n",
    " De acuerdo con Kemna y Vorst, las fórmulas para valuar una opción de compra y una opción de venta son:\n",
    " \n",
    "$c \\approx S_t e^{(b_A -r)(T-t)}\\phi(d_1)-Ke^{-r(T-t)}\\phi(d_2),$ <p style='text-align: right;'> (3) </p>\n",
    "$p \\approx K e^{-r(T-t)}\\phi(-d_2)-S_t e^{(b_A -r)(T-t)}\\phi(-d_1).$\n",
    "\n",
    "con $d_1$ y $d_2$ dados por:\n",
    "\n",
    "$d_1 = \\frac{ln(S_i/K)+(b_A + 1/2\\sigma_a^2)(T-t)}{\\sigma\\sqrt{T-t}} $ <p style='text-align: right;'> (4) </p>\n",
    "$d_2 = d_1 - \\sigma_a\\sqrt{T-t}$\n",
    "\n",
    "La función $\\phi(d)$ es la función de distribución acumulada de $E\\sim N(0,1)$. La volatilidad ajustada es igual a:\n",
    "\n",
    "$\\sigma_a = \\frac{\\sigma}{\\sqrt{3}},$\n",
    "\n",
    "mientras que el costo de acarreo ajustado es:\n",
    "\n",
    "$b_A = \\frac{1}{2} \\left(v-\\frac{\\sigma^2}{6}\\right). $"
   ]
  },
  {
   "cell_type": "markdown",
   "metadata": {},
   "source": []
  }
 ],
 "metadata": {
  "kernelspec": {
   "display_name": "Python 3",
   "language": "python",
   "name": "python3"
  },
  "language_info": {
   "codemirror_mode": {
    "name": "ipython",
    "version": 3
   },
   "file_extension": ".py",
   "mimetype": "text/x-python",
   "name": "python",
   "nbconvert_exporter": "python",
   "pygments_lexer": "ipython3",
   "version": "3.8.3"
  }
 },
 "nbformat": 4,
 "nbformat_minor": 4
}
